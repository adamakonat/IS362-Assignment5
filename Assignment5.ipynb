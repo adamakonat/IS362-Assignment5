{
  "metadata": {
    "language_info": {
      "codemirror_mode": {
        "name": "python",
        "version": 3
      },
      "file_extension": ".py",
      "mimetype": "text/x-python",
      "name": "python",
      "nbconvert_exporter": "python",
      "pygments_lexer": "ipython3",
      "version": "3.8"
    },
    "kernelspec": {
      "name": "python",
      "display_name": "Python (Pyodide)",
      "language": "python"
    }
  },
  "nbformat_minor": 4,
  "nbformat": 4,
  "cells": [
    {
      "cell_type": "code",
      "source": "#Question 1: What is the northernmost airport in the United States?",
      "metadata": {},
      "execution_count": null,
      "outputs": []
    },
    {
      "cell_type": "code",
      "source": "import pandas as pd\n\ndata = 'https://raw.githubusercontent.com/tidyverse/nycflights13/main/data-raw/airports.csv'\ndata = pd.read_csv('airports.csv')\n\n# Sort airport data based on latitude to display top 5 northernmost airports in North America\ndata.sort_values(['lat'], ascending = [False]).head(5)",
      "metadata": {
        "trusted": true
      },
      "execution_count": 10,
      "outputs": [
        {
          "execution_count": 10,
          "output_type": "execute_result",
          "data": {
            "text/plain": "     faa                                        name        lat         lon  \\\n393  EEN                     Dillant Hopkins Airport  72.270833   42.898333   \n217  BRW                  Wiley Post Will Rogers Mem  71.285446 -156.766003   \n98   AIN                          Wainwright Airport  70.638056 -159.994722   \n674  K03                               Wainwright As  70.613378 -159.860350   \n140  ATK  Atqasuk Edward Burnell Sr Memorial Airport  70.467300 -157.436000   \n\n     alt  tz dst  \n393  149  -5   A  \n217   44  -9   A  \n98    41  -9   A  \n674   35  -9   A  \n140   96  -9   A  ",
            "text/html": "<div>\n<style scoped>\n    .dataframe tbody tr th:only-of-type {\n        vertical-align: middle;\n    }\n\n    .dataframe tbody tr th {\n        vertical-align: top;\n    }\n\n    .dataframe thead th {\n        text-align: right;\n    }\n</style>\n<table border=\"1\" class=\"dataframe\">\n  <thead>\n    <tr style=\"text-align: right;\">\n      <th></th>\n      <th>faa</th>\n      <th>name</th>\n      <th>lat</th>\n      <th>lon</th>\n      <th>alt</th>\n      <th>tz</th>\n      <th>dst</th>\n    </tr>\n  </thead>\n  <tbody>\n    <tr>\n      <th>393</th>\n      <td>EEN</td>\n      <td>Dillant Hopkins Airport</td>\n      <td>72.270833</td>\n      <td>42.898333</td>\n      <td>149</td>\n      <td>-5</td>\n      <td>A</td>\n    </tr>\n    <tr>\n      <th>217</th>\n      <td>BRW</td>\n      <td>Wiley Post Will Rogers Mem</td>\n      <td>71.285446</td>\n      <td>-156.766003</td>\n      <td>44</td>\n      <td>-9</td>\n      <td>A</td>\n    </tr>\n    <tr>\n      <th>98</th>\n      <td>AIN</td>\n      <td>Wainwright Airport</td>\n      <td>70.638056</td>\n      <td>-159.994722</td>\n      <td>41</td>\n      <td>-9</td>\n      <td>A</td>\n    </tr>\n    <tr>\n      <th>674</th>\n      <td>K03</td>\n      <td>Wainwright As</td>\n      <td>70.613378</td>\n      <td>-159.860350</td>\n      <td>35</td>\n      <td>-9</td>\n      <td>A</td>\n    </tr>\n    <tr>\n      <th>140</th>\n      <td>ATK</td>\n      <td>Atqasuk Edward Burnell Sr Memorial Airport</td>\n      <td>70.467300</td>\n      <td>-157.436000</td>\n      <td>96</td>\n      <td>-9</td>\n      <td>A</td>\n    </tr>\n  </tbody>\n</table>\n</div>"
          },
          "metadata": {}
        }
      ]
    },
    {
      "cell_type": "code",
      "source": "#Answer1: The northernmost airport in United States according to this dataframe is EEN Dillant Hopkins Airport. However, research demonstrates that this information is incorrect. The lattitude and longitute are transposed which makes BRW Wiley Post Will Rogers Memorial Airport the northernmost airport in the United States.",
      "metadata": {},
      "execution_count": null,
      "outputs": []
    },
    {
      "cell_type": "code",
      "source": "#Question 2: What is the easternmost airport in the United States?",
      "metadata": {},
      "execution_count": null,
      "outputs": []
    },
    {
      "cell_type": "code",
      "source": "data.sort_values(['lon'], ascending = [False]).head(5)",
      "metadata": {
        "trusted": true
      },
      "execution_count": 13,
      "outputs": [
        {
          "execution_count": 13,
          "output_type": "execute_result",
          "data": {
            "text/plain": "      faa                           name        lat         lon   alt  tz dst\n1237  SYA                   Eareckson As  52.712275  174.113620    98 -10   A\n897   MYF               Montgomery Field  32.475900  117.759000    17  -8   A\n372   DVT  Deer Valley Municipal Airport  33.411700  112.457000  1478  -7   A\n393   EEN        Dillant Hopkins Airport  72.270833   42.898333   149  -5   A\n419   EPM     Eastport Municipal Airport  44.910111  -67.012694    45  -5   A",
            "text/html": "<div>\n<style scoped>\n    .dataframe tbody tr th:only-of-type {\n        vertical-align: middle;\n    }\n\n    .dataframe tbody tr th {\n        vertical-align: top;\n    }\n\n    .dataframe thead th {\n        text-align: right;\n    }\n</style>\n<table border=\"1\" class=\"dataframe\">\n  <thead>\n    <tr style=\"text-align: right;\">\n      <th></th>\n      <th>faa</th>\n      <th>name</th>\n      <th>lat</th>\n      <th>lon</th>\n      <th>alt</th>\n      <th>tz</th>\n      <th>dst</th>\n    </tr>\n  </thead>\n  <tbody>\n    <tr>\n      <th>1237</th>\n      <td>SYA</td>\n      <td>Eareckson As</td>\n      <td>52.712275</td>\n      <td>174.113620</td>\n      <td>98</td>\n      <td>-10</td>\n      <td>A</td>\n    </tr>\n    <tr>\n      <th>897</th>\n      <td>MYF</td>\n      <td>Montgomery Field</td>\n      <td>32.475900</td>\n      <td>117.759000</td>\n      <td>17</td>\n      <td>-8</td>\n      <td>A</td>\n    </tr>\n    <tr>\n      <th>372</th>\n      <td>DVT</td>\n      <td>Deer Valley Municipal Airport</td>\n      <td>33.411700</td>\n      <td>112.457000</td>\n      <td>1478</td>\n      <td>-7</td>\n      <td>A</td>\n    </tr>\n    <tr>\n      <th>393</th>\n      <td>EEN</td>\n      <td>Dillant Hopkins Airport</td>\n      <td>72.270833</td>\n      <td>42.898333</td>\n      <td>149</td>\n      <td>-5</td>\n      <td>A</td>\n    </tr>\n    <tr>\n      <th>419</th>\n      <td>EPM</td>\n      <td>Eastport Municipal Airport</td>\n      <td>44.910111</td>\n      <td>-67.012694</td>\n      <td>45</td>\n      <td>-5</td>\n      <td>A</td>\n    </tr>\n  </tbody>\n</table>\n</div>"
          },
          "metadata": {}
        }
      ]
    },
    {
      "cell_type": "code",
      "source": "#Answer2: The easternmost airport in the United States is EPM Eastport Municipal Airport. The information in this dataframe has been confirmed on Google.com. The first 4 are not in the eastern timezone.",
      "metadata": {},
      "execution_count": null,
      "outputs": []
    },
    {
      "cell_type": "code",
      "source": "#Question3: On February 12 2013, which New York airport had the windiest weather?",
      "metadata": {},
      "execution_count": null,
      "outputs": []
    },
    {
      "cell_type": "code",
      "source": "url_weather = 'https://raw.githubusercontent.com/tidyverse/nycflights13/6c38793cddb3ebf4eb8924c9ae9ee4922970b691/data-raw/weather.csv'\nweather = pd.read_csv('weather.csv')\nweather[weather.origin.isin(['JFK', 'LGA'])  & (weather.month == 2) & (weather.day == 12) & \n        (weather.year == 2013)].sort_values(['wind_speed'], ascending = [False]).head(10)\nweather",
      "metadata": {
        "trusted": true
      },
      "execution_count": 31,
      "outputs": [
        {
          "execution_count": 31,
          "output_type": "execute_result",
          "data": {
            "text/plain": "     origin  year  month   day  hour   temp   dewp  humid  wind_dir  \\\n0       EWR  2013    1.0   1.0   0.0  37.04  21.92  53.97     230.0   \n1       EWR  2013    1.0   1.0   1.0  37.04  21.92  53.97     230.0   \n2       EWR  2013    1.0   1.0   2.0  37.94  21.92  52.09     230.0   \n3       EWR  2013    1.0   1.0   3.0  37.94  23.00  54.51     230.0   \n4       EWR  2013    1.0   1.0   4.0  37.94  24.08  57.04     240.0   \n...     ...   ...    ...   ...   ...    ...    ...    ...       ...   \n8714    JFK  2013    9.0   2.0  20.0  75.20  73.40  94.14     200.0   \n8715    JFK  2013   10.0  23.0  10.0  48.92  39.02  68.51      60.0   \n8716    JFK  2013   10.0  23.0  11.0  48.92  39.02  68.51      40.0   \n8717    JFK  2013   12.0  17.0   5.0  26.96  10.94  50.34      40.0   \n8718    LGA  2013    8.0  22.0  22.0  75.92  66.92  73.68     210.0   \n\n      wind_speed  wind_gust  precip  pressure  visib  \n0       10.35702  11.918651     0.0    1013.9   10.0  \n1       13.80936  15.891535     0.0    1013.0   10.0  \n2       12.65858  14.567241     0.0    1012.6   10.0  \n3       13.80936  15.891535     0.0    1012.7   10.0  \n4       14.96014  17.215830     0.0    1012.8   10.0  \n...          ...        ...     ...       ...    ...  \n8714     4.60312   5.297178     0.0       NaN    4.0  \n8715     4.60312   5.297178     0.0    1008.1   10.0  \n8716     4.60312   5.297178     0.0    1008.5   10.0  \n8717     4.60312   5.297178     0.0    1023.9   10.0  \n8718     8.05546   9.270062     0.0    1011.9   10.0  \n\n[8719 rows x 14 columns]",
            "text/html": "<div>\n<style scoped>\n    .dataframe tbody tr th:only-of-type {\n        vertical-align: middle;\n    }\n\n    .dataframe tbody tr th {\n        vertical-align: top;\n    }\n\n    .dataframe thead th {\n        text-align: right;\n    }\n</style>\n<table border=\"1\" class=\"dataframe\">\n  <thead>\n    <tr style=\"text-align: right;\">\n      <th></th>\n      <th>origin</th>\n      <th>year</th>\n      <th>month</th>\n      <th>day</th>\n      <th>hour</th>\n      <th>temp</th>\n      <th>dewp</th>\n      <th>humid</th>\n      <th>wind_dir</th>\n      <th>wind_speed</th>\n      <th>wind_gust</th>\n      <th>precip</th>\n      <th>pressure</th>\n      <th>visib</th>\n    </tr>\n  </thead>\n  <tbody>\n    <tr>\n      <th>0</th>\n      <td>EWR</td>\n      <td>2013</td>\n      <td>1.0</td>\n      <td>1.0</td>\n      <td>0.0</td>\n      <td>37.04</td>\n      <td>21.92</td>\n      <td>53.97</td>\n      <td>230.0</td>\n      <td>10.35702</td>\n      <td>11.918651</td>\n      <td>0.0</td>\n      <td>1013.9</td>\n      <td>10.0</td>\n    </tr>\n    <tr>\n      <th>1</th>\n      <td>EWR</td>\n      <td>2013</td>\n      <td>1.0</td>\n      <td>1.0</td>\n      <td>1.0</td>\n      <td>37.04</td>\n      <td>21.92</td>\n      <td>53.97</td>\n      <td>230.0</td>\n      <td>13.80936</td>\n      <td>15.891535</td>\n      <td>0.0</td>\n      <td>1013.0</td>\n      <td>10.0</td>\n    </tr>\n    <tr>\n      <th>2</th>\n      <td>EWR</td>\n      <td>2013</td>\n      <td>1.0</td>\n      <td>1.0</td>\n      <td>2.0</td>\n      <td>37.94</td>\n      <td>21.92</td>\n      <td>52.09</td>\n      <td>230.0</td>\n      <td>12.65858</td>\n      <td>14.567241</td>\n      <td>0.0</td>\n      <td>1012.6</td>\n      <td>10.0</td>\n    </tr>\n    <tr>\n      <th>3</th>\n      <td>EWR</td>\n      <td>2013</td>\n      <td>1.0</td>\n      <td>1.0</td>\n      <td>3.0</td>\n      <td>37.94</td>\n      <td>23.00</td>\n      <td>54.51</td>\n      <td>230.0</td>\n      <td>13.80936</td>\n      <td>15.891535</td>\n      <td>0.0</td>\n      <td>1012.7</td>\n      <td>10.0</td>\n    </tr>\n    <tr>\n      <th>4</th>\n      <td>EWR</td>\n      <td>2013</td>\n      <td>1.0</td>\n      <td>1.0</td>\n      <td>4.0</td>\n      <td>37.94</td>\n      <td>24.08</td>\n      <td>57.04</td>\n      <td>240.0</td>\n      <td>14.96014</td>\n      <td>17.215830</td>\n      <td>0.0</td>\n      <td>1012.8</td>\n      <td>10.0</td>\n    </tr>\n    <tr>\n      <th>...</th>\n      <td>...</td>\n      <td>...</td>\n      <td>...</td>\n      <td>...</td>\n      <td>...</td>\n      <td>...</td>\n      <td>...</td>\n      <td>...</td>\n      <td>...</td>\n      <td>...</td>\n      <td>...</td>\n      <td>...</td>\n      <td>...</td>\n      <td>...</td>\n    </tr>\n    <tr>\n      <th>8714</th>\n      <td>JFK</td>\n      <td>2013</td>\n      <td>9.0</td>\n      <td>2.0</td>\n      <td>20.0</td>\n      <td>75.20</td>\n      <td>73.40</td>\n      <td>94.14</td>\n      <td>200.0</td>\n      <td>4.60312</td>\n      <td>5.297178</td>\n      <td>0.0</td>\n      <td>NaN</td>\n      <td>4.0</td>\n    </tr>\n    <tr>\n      <th>8715</th>\n      <td>JFK</td>\n      <td>2013</td>\n      <td>10.0</td>\n      <td>23.0</td>\n      <td>10.0</td>\n      <td>48.92</td>\n      <td>39.02</td>\n      <td>68.51</td>\n      <td>60.0</td>\n      <td>4.60312</td>\n      <td>5.297178</td>\n      <td>0.0</td>\n      <td>1008.1</td>\n      <td>10.0</td>\n    </tr>\n    <tr>\n      <th>8716</th>\n      <td>JFK</td>\n      <td>2013</td>\n      <td>10.0</td>\n      <td>23.0</td>\n      <td>11.0</td>\n      <td>48.92</td>\n      <td>39.02</td>\n      <td>68.51</td>\n      <td>40.0</td>\n      <td>4.60312</td>\n      <td>5.297178</td>\n      <td>0.0</td>\n      <td>1008.5</td>\n      <td>10.0</td>\n    </tr>\n    <tr>\n      <th>8717</th>\n      <td>JFK</td>\n      <td>2013</td>\n      <td>12.0</td>\n      <td>17.0</td>\n      <td>5.0</td>\n      <td>26.96</td>\n      <td>10.94</td>\n      <td>50.34</td>\n      <td>40.0</td>\n      <td>4.60312</td>\n      <td>5.297178</td>\n      <td>0.0</td>\n      <td>1023.9</td>\n      <td>10.0</td>\n    </tr>\n    <tr>\n      <th>8718</th>\n      <td>LGA</td>\n      <td>2013</td>\n      <td>8.0</td>\n      <td>22.0</td>\n      <td>22.0</td>\n      <td>75.92</td>\n      <td>66.92</td>\n      <td>73.68</td>\n      <td>210.0</td>\n      <td>8.05546</td>\n      <td>9.270062</td>\n      <td>0.0</td>\n      <td>1011.9</td>\n      <td>10.0</td>\n    </tr>\n  </tbody>\n</table>\n<p>8719 rows × 14 columns</p>\n</div>"
          },
          "metadata": {}
        }
      ]
    },
    {
      "cell_type": "code",
      "source": "#Answer3: LGA LaGuardia Airport had the windiest weather with wind speeds of 23mph and wind gusts of 31mph.",
      "metadata": {},
      "execution_count": null,
      "outputs": []
    }
  ]
}